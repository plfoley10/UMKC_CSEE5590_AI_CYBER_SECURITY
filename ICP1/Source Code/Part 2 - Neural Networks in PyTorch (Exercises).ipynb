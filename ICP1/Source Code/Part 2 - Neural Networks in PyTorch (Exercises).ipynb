{
 "cells": [
  {
   "cell_type": "markdown",
   "metadata": {},
   "source": [
    "# Neural networks with PyTorch\n",
    "\n",
    "Deep learning networks tend to be massive with dozens or hundreds of layers, that's where the term \"deep\" comes from. You can build one of these deep networks using only weight matrices as we did in the previous notebook, but in general it's very cumbersome and difficult to implement. PyTorch has a nice module `nn` that provides a nice way to efficiently build large neural networks."
   ]
  },
  {
   "cell_type": "code",
   "execution_count": 1,
   "metadata": {},
   "outputs": [],
   "source": [
    "# Import necessary packages\n",
    "\n",
    "%matplotlib inline\n",
    "%config InlineBackend.figure_format = 'retina'\n",
    "\n",
    "import numpy as np\n",
    "import torch\n",
    "\n",
    "import helper\n",
    "\n",
    "import matplotlib.pyplot as plt"
   ]
  },
  {
   "cell_type": "markdown",
   "metadata": {},
   "source": [
    "\n",
    "Now we're going to build a larger network that can solve a (formerly) difficult problem, identifying text in an image. Here we'll use the MNIST dataset which consists of greyscale handwritten digits. Each image is 28x28 pixels, you can see a sample below\n",
    "\n",
    "<img src='assets/mnist.png'>\n",
    "\n",
    "Our goal is to build a neural network that can take one of these images and predict the digit in the image.\n",
    "\n",
    "First up, we need to get our dataset. This is provided through the `torchvision` package. The code below will download the MNIST dataset, then create training and test datasets for us. Don't worry too much about the details here, you'll learn more about this later."
   ]
  },
  {
   "cell_type": "code",
   "execution_count": 2,
   "metadata": {},
   "outputs": [
    {
     "name": "stdout",
     "output_type": "stream",
     "text": [
      "Downloading http://yann.lecun.com/exdb/mnist/train-images-idx3-ubyte.gz\n",
      "Downloading http://yann.lecun.com/exdb/mnist/train-labels-idx1-ubyte.gz\n",
      "Downloading http://yann.lecun.com/exdb/mnist/t10k-images-idx3-ubyte.gz\n",
      "Downloading http://yann.lecun.com/exdb/mnist/t10k-labels-idx1-ubyte.gz\n",
      "Processing...\n",
      "Done!\n"
     ]
    }
   ],
   "source": [
    "### Run this cell\n",
    "\n",
    "from torchvision import datasets, transforms\n",
    "\n",
    "# Define a transform to normalize the data\n",
    "transform = transforms.Compose([transforms.ToTensor(),\n",
    "                              transforms.Normalize((0.5,), (0.5,)),\n",
    "                              ])\n",
    "\n",
    "# Download and load the training data\n",
    "trainset = datasets.MNIST('~/.pytorch/MNIST_data/', download=True, train=True, transform=transform)\n",
    "trainloader = torch.utils.data.DataLoader(trainset, batch_size=64, shuffle=True)"
   ]
  },
  {
   "cell_type": "markdown",
   "metadata": {},
   "source": [
    "We have the training data loaded into `trainloader` and we make that an iterator with `iter(trainloader)`. Later, we'll use this to loop through the dataset for training, like\n",
    "\n",
    "```python\n",
    "for image, label in trainloader:\n",
    "    ## do things with images and labels\n",
    "```\n",
    "\n",
    "You'll notice I created the `trainloader` with a batch size of 64, and `shuffle=True`. The batch size is the number of images we get in one iteration from the data loader and pass through our network, often called a *batch*. And `shuffle=True` tells it to shuffle the dataset every time we start going through the data loader again. But here I'm just grabbing the first batch so we can check out the data. We can see below that `images` is just a tensor with size `(64, 1, 28, 28)`. So, 64 images per batch, 1 color channel, and 28x28 images."
   ]
  },
  {
   "cell_type": "code",
   "execution_count": 3,
   "metadata": {},
   "outputs": [
    {
     "name": "stdout",
     "output_type": "stream",
     "text": [
      "<class 'torch.Tensor'>\n",
      "torch.Size([64, 1, 28, 28])\n",
      "torch.Size([64])\n"
     ]
    }
   ],
   "source": [
    "dataiter = iter(trainloader)\n",
    "images, labels = dataiter.next()\n",
    "print(type(images))\n",
    "print(images.shape)\n",
    "print(labels.shape)"
   ]
  },
  {
   "cell_type": "markdown",
   "metadata": {},
   "source": [
    "This is what one of the images looks like. "
   ]
  },
  {
   "cell_type": "code",
   "execution_count": 4,
   "metadata": {},
   "outputs": [
    {
     "data": {
      "image/png": "[encoded data removed]",
      "text/plain": [
       "<Figure size 432x288 with 1 Axes>"
      ]
     },
     "metadata": {
      "image/png": {
       "height": 250,
       "width": 253
      },
      "needs_background": "light"
     },
     "output_type": "display_data"
    }
   ],
   "source": [
    "plt.imshow(images[1].numpy().squeeze(), cmap='Greys_r');"
   ]
  },
  {
   "cell_type": "markdown",
   "metadata": {},
   "source": [
    "First, let's try to build a simple network for this dataset using weight matrices and matrix multiplications. Then, we'll see how to do it using PyTorch's `nn` module which provides a much more convenient and powerful method for defining network architectures.\n",
    "\n",
    "The networks you've seen so far are called *fully-connected* or *dense* networks. Each unit in one layer is connected to each unit in the next layer. In fully-connected networks, the input to each layer must be a one-dimensional vector (which can be stacked into a 2D tensor as a batch of multiple examples). However, our images are 28x28 2D tensors, so we need to convert them into 1D vectors. Thinking about sizes, we need to convert the batch of images with shape `(64, 1, 28, 28)` to a have a shape of `(64, 784)`, 784 is 28 times 28. This is typically called *flattening*, we flattened the 2D images into 1D vectors.\n",
    "\n",
    "Previously you built a network with one output unit. Here we need 10 output units, one for each digit. We want our network to predict the digit shown in an image, so what we'll do is calculate probabilities that the image is of any one digit or class. This ends up being a discrete probability distribution over the classes (digits) that tells us the most likely class for the image. That means we need 10 output units for the 10 classes (digits). We'll see how to convert the network output into a probability distribution next.\n",
    "\n",
    "> **Exercise:** Flatten the batch of images `images`. Then build a multi-layer network with 784 input units, 256 hidden units, and 10 output units using random tensors for the weights and biases. For now, use a sigmoid activation for the hidden layer. Leave the output layer without an activation, we'll add one that gives us a probability distribution next."
   ]
  },
  {
   "cell_type": "code",
   "execution_count": 8,
   "metadata": {},
   "outputs": [
    {
     "name": "stdout",
     "output_type": "stream",
     "text": [
      "torch.Size([64, 10])\n",
      "tensor([[ -4.9320,  -4.1560,  10.4705,  18.7537,  -9.7005,  -5.0048,  -1.5318,\n",
      "          15.7163,  -4.3958,  17.6768],\n",
      "        [ -8.2122,  -2.1699,   4.0298,   4.2150,   4.5497, -11.3512,   1.8248,\n",
      "           8.6140,  -4.8493,   8.1813],\n",
      "        [ -2.2383,  -7.3679,   1.5049,  13.7372,  -0.8345,  -8.1537,   2.9717,\n",
      "           8.5633,   0.6680,  16.4521],\n",
      "        [  3.0110, -10.7280,   7.5459,  11.4218,   0.7933, -12.7280,   6.0132,\n",
      "          11.3427,  -0.3845,   3.6629],\n",
      "        [  1.4058, -10.3609,  -7.0528,   8.5886,  -1.1705,  -4.6034,   7.7587,\n",
      "          19.5947,   3.4198,  13.2055],\n",
      "        [ -7.8833,  -8.8682,   8.9860,   8.9872,  -8.4739,  -3.1109,   8.9805,\n",
      "          10.6900,  -5.7157,  14.7770],\n",
      "        [-11.6742,   3.2290,   0.2767,   8.4380,  -8.0450, -11.5013,   3.4236,\n",
      "           4.0628, -16.1563,  13.7643],\n",
      "        [ -6.0997,  -4.4841,   2.0235,  17.2356,  -2.4240,  -7.0644,   5.8495,\n",
      "           9.2185,  -2.0801,  14.8421],\n",
      "        [ -1.6300,  -5.2479,  -5.0802,  14.6274,  -7.1415,  -6.0678,   5.5290,\n",
      "           8.5925,  -7.7215,  18.8575],\n",
      "        [ -4.4141, -13.2304,   9.3649,  12.8111,   5.6042,  -2.9895,  -0.8721,\n",
      "           7.5724,  -1.2388,   3.6894],\n",
      "        [  3.1366,  -6.5232,  -1.9595,  -0.3182,  -7.3160,  -3.3141,   2.4455,\n",
      "          13.9244,  -0.3395,  15.8590],\n",
      "        [-11.9729,   4.2995,   7.9743,   6.3876,   0.9673,  -9.9017,  15.3733,\n",
      "           4.8766,   7.4902,  16.5502],\n",
      "        [  1.0881,  -3.0484,   8.6621,   5.6026,  -1.1854, -16.5006,   1.7815,\n",
      "          20.1556,  -9.5277,  12.1983],\n",
      "        [ -4.6541,  -3.5805,   6.0289,   2.3012,  -3.9378,  -3.3014,  -0.5409,\n",
      "          25.9125,  11.6449,  19.0776],\n",
      "        [  5.4152, -13.4938,   1.7145,   2.7846,  -6.8142,  -9.3767,   4.3952,\n",
      "          14.5573,   1.1287,   2.6643],\n",
      "        [  1.4277,  -0.8793,   4.5417,  11.8435, -10.6989,  -7.8384,   8.2179,\n",
      "          12.4785, -13.9430,  15.8189],\n",
      "        [  4.3562, -16.1353,  -0.6440,   9.2728,  -5.0426,  -5.1795,   9.0428,\n",
      "          12.9173,  -0.6022,  11.3714],\n",
      "        [  3.7074, -15.6236,   2.3941,  12.0818,  -6.0751, -10.7863,   7.1896,\n",
      "          13.4759,  -0.0753,   4.9856],\n",
      "        [  5.2563,  -7.9026,  -1.5952,   4.1870,   3.5581,  -6.9783,   2.0169,\n",
      "          16.9832,  -0.7270,  19.6876],\n",
      "        [ -6.1201,  -9.1671,   3.4677,  17.5495,  -0.5036,  -6.8144,  11.1439,\n",
      "          12.3384,  -2.1249,   7.1565],\n",
      "        [ -5.1935,  -3.3071,  -1.9575,   2.2155,  -5.3740,  -6.8182,  -3.2106,\n",
      "          20.2497,  -0.0308,  17.6577],\n",
      "        [  3.1679, -11.2519,  -2.2837,  15.7010,  -2.5647,   0.9374,   3.7480,\n",
      "          20.8242,   4.4773,   3.5694],\n",
      "        [  1.0133, -18.2015,   0.6168,  20.8518,  -7.5601,  -8.0835,   8.8272,\n",
      "          10.2174,  -3.4209,   8.5929],\n",
      "        [  2.3656,   0.3583,   3.8246,  -1.7697,   6.7279, -13.4595,   3.0292,\n",
      "          10.0664,  -1.4121,  10.6890],\n",
      "        [  1.1224, -18.1329,  14.8776,  16.7351,  -8.4681,  -4.5537,   6.0590,\n",
      "          18.1093,  -4.0052,   1.4044],\n",
      "        [ -8.7734,  -6.2540,   8.1760,   7.4341,   3.6571,  -7.0043,   8.3689,\n",
      "          -1.1111, -12.7973,   1.4231],\n",
      "        [ -5.1035, -10.4272,  -3.1295,   4.9592,  -3.0072,  -8.2314,   6.8054,\n",
      "          12.8541,  12.4269,   8.1194],\n",
      "        [ -2.5304,  -4.4649,  -7.2739,   5.2047,  -7.9852,  -9.0362,  -7.1680,\n",
      "          16.4399,   1.1501,   5.6278],\n",
      "        [  7.9164, -19.9524,  -2.7638,  12.7973,  -1.2443,   0.6759,   1.2610,\n",
      "          20.5783,   2.8328,   9.3860],\n",
      "        [ -7.5858,  -4.4087,   9.8792,  13.5594,  -5.1574,  -0.9790,   3.3542,\n",
      "          -0.2767,  -9.6627,   8.3940],\n",
      "        [ -6.6931,  -2.3034,   4.0917,   2.6885,   5.7830,  -0.7894,  12.1235,\n",
      "           9.2444,   1.1322,  12.9377],\n",
      "        [ -3.3413, -13.4715,   7.0391,   5.1178,  -6.2215,  -8.8229,  11.9830,\n",
      "           8.6002,  -1.3257,   9.8919],\n",
      "        [  5.3889,  -4.8810,   0.1308,   4.5245,  -2.3979, -16.2524,  11.1149,\n",
      "           9.4335,  -4.3783,   7.9658],\n",
      "        [  3.3495, -15.1014,   2.8064,  13.5577,  -7.7361,  -2.9246,   5.2418,\n",
      "          22.8808,  -0.8535,   8.2685],\n",
      "        [ -4.4913, -13.2695,  -1.2133,  -2.1123,   2.1651,  -1.9924,   1.7338,\n",
      "          17.3134,   1.2438,  13.4697],\n",
      "        [ -0.3363,  -1.4856,   1.4694,  11.8009,   5.0316,  -4.1067,  -0.8681,\n",
      "          19.5641,   0.1509,  10.3858],\n",
      "        [ -6.5465,  -7.1669,  -3.3855,  18.9357,   2.4957, -10.0673,  17.8133,\n",
      "           8.4851,  -0.3992,  17.1519],\n",
      "        [  1.0584,  -3.7926,   3.5239,   4.0405,   2.3372,  -7.4150,   1.2509,\n",
      "          18.4538,   8.1650,  21.1756],\n",
      "        [ -0.2614,  -2.9620,   4.3310,   7.2053,  -1.1460,  -2.8628,   6.8990,\n",
      "          -4.3818,  -6.8344,  -1.4622],\n",
      "        [  5.8895, -14.2179,  -0.1183,   9.1647,   5.4141, -12.8956,   7.9618,\n",
      "           6.2817,  -2.2496,  -1.2644],\n",
      "        [ -8.9156,  -1.1721,  -0.5121,   4.5398,  -7.0043,  -5.7214,   8.2431,\n",
      "           4.4309,  -1.8509,   1.9022],\n",
      "        [-11.2375,  -4.7507,   4.1755,   3.5654,  -0.8254, -10.4320,  15.4872,\n",
      "          14.0592,  -2.5785,  20.9126],\n",
      "        [ -6.0049,  -3.5978,   9.3176,  11.1375,  -7.0151,  -3.3334,   8.6045,\n",
      "          -3.0996,  -4.1587,   5.1324],\n",
      "        [ -0.1190,  -0.3579,   4.7845,   0.5117,   6.6052, -13.4913,   6.8301,\n",
      "           7.5736,  -2.1910,   8.6211],\n",
      "        [  2.1161, -11.3041,   1.2431,   0.4048,   4.5807,  -9.0642,   4.2555,\n",
      "          14.2613,  -3.1860,  16.2831],\n",
      "        [-11.6059,  -3.6337,   6.0760,  14.4324,  -7.3152,  -5.8930,   9.0451,\n",
      "           9.0475,  -1.2635,  15.8861],\n",
      "        [  1.2528,  -7.4935,   0.5236,  14.0683,  -0.6710,  -8.5567,  11.2527,\n",
      "          12.6075,   3.3167,  20.1916],\n",
      "        [  3.1315,  -4.8021,   1.9167,  11.9384,   3.9266,  -8.9729,   8.2467,\n",
      "           2.8589,   0.9302,  -1.6572],\n",
      "        [  0.8089, -16.3136,  -7.4706,  14.1813,  -0.5451,  -5.9213,   6.6913,\n",
      "          17.7197,   4.0624,   9.9731],\n",
      "        [ -4.8161,  -0.2884,   6.2092,   5.7670,  -5.7403, -12.5175,   4.1630,\n",
      "           8.2484,  -3.6035,   7.1853],\n",
      "        [ -3.6558, -12.2252,   9.9861,  24.5363,   0.3496,   2.4968,   6.2394,\n",
      "          12.9780,   1.4880,  15.6654],\n",
      "        [  6.9357, -16.0721,   2.6376,  11.3189,  -6.0567, -10.5439,   6.9546,\n",
      "          17.0318,   0.4857,  12.3145],\n",
      "        [  0.5814, -10.6328,   6.6119,  12.4054,  -3.6714,  -7.5306,   6.0247,\n",
      "          11.5281,  -3.2718,  10.2060],\n",
      "        [  0.0492, -14.6257,   5.4800,  12.2693,  -3.3311,  -8.6145,   2.5556,\n",
      "          15.9793,   3.3766,  13.2488],\n",
      "        [  0.9137,  -9.3145,  -1.2297,   6.4942,   1.4609,  -1.5694,   5.9972,\n",
      "          17.0143,  -2.7322,  20.6128],\n",
      "        [ -2.8400, -10.7954,   7.1329,  16.0478,  -7.3378,  -9.2282,   2.4617,\n",
      "          15.5856,  -5.4195,  11.0669],\n",
      "        [  5.7158, -16.0077,   5.4771,  15.2287,   2.0154,  -8.4626,   3.0500,\n",
      "           9.7518,   0.2567,   3.6280],\n",
      "        [  6.6524,  -9.5568,   6.0294,   2.7547,   6.6883,  -7.1093,   1.0395,\n",
      "           9.5602,  -1.4582,  12.3646],\n",
      "        [  7.3239, -13.1009,   8.6410,  11.9936,   0.5934, -10.0118,   2.4824,\n",
      "           2.5905,  -1.8764,   2.4774],\n",
      "        [  1.8602,  -8.0753,   2.2302,   8.8366,  -5.2410,  -6.8097,   5.6337,\n",
      "           5.6663,  -1.8358,  13.9776],\n",
      "        [  0.0810, -10.5344,   5.9876,   9.4396,  -7.2039,  -9.5741,   2.7183,\n",
      "           9.6732,  -3.2591,   9.6086],\n",
      "        [ -9.7039, -11.5600,   6.1854,  17.8008,   6.1168,   1.0607,   7.0307,\n",
      "          14.4493,  -3.0520,   7.4832],\n",
      "        [ -9.1902,  -0.5878,   4.7286,   8.9036,  -0.4632,  -5.9471,   1.5891,\n",
      "           6.7935,  -8.3211,   1.8155],\n",
      "        [  5.6585, -15.4007,   3.3821,  10.9597,  -5.5662,  -6.3928,   3.5718,\n",
      "          17.5352,  -8.1833,  13.2091]])\n"
     ]
    }
   ],
   "source": [
    "# Activation function\n",
    "def activation(x):\n",
    "    return 1/(1+torch.exp(-x))\n",
    "\n",
    "# Flatten the input images\n",
    "inputs = images.view(images.shape[0], -1)\n",
    "\n",
    "# Create parameters\n",
    "w1 = torch.randn(784, 256)\n",
    "b1 = torch.randn(256)\n",
    "\n",
    "w2 = torch.randn(256, 10)\n",
    "b2 = torch.randn(10)\n",
    "\n",
    "# hidden layer\n",
    "h = activation(torch.mm(inputs, w1) + b1)\n",
    "\n",
    "#output\n",
    "out = torch.mm(h, w2) + b2\n",
    "print(out.shape)\n",
    "print(out)"
   ]
  },
  {
   "cell_type": "markdown",
   "metadata": {},
   "source": [
    "Now we have 10 outputs for our network. We want to pass in an image to our network and get out a probability distribution over the classes that tells us the likely class(es) the image belongs to. Something that looks like this:\n",
    "<img src='assets/image_distribution.png' width=500px>\n",
    "\n",
    "Here we see that the probability for each class is roughly the same. This is representing an untrained network, it hasn't seen any data yet so it just returns a uniform distribution with equal probabilities for each class.\n",
    "\n",
    "To calculate this probability distribution, we often use the [**softmax** function](https://en.wikipedia.org/wiki/Softmax_function). Mathematically this looks like\n",
    "\n",
    "$$\n",
    "\\Large \\sigma(x_i) = \\cfrac{e^{x_i}}{\\sum_k^K{e^{x_k}}}\n",
    "$$\n",
    "\n",
    "What this does is squish each input $x_i$ between 0 and 1 and normalizes the values to give you a proper probability distribution where the probabilites sum up to one.\n",
    "\n",
    "> **Exercise:** Implement a function `softmax` that performs the softmax calculation and returns probability distributions for each example in the batch. Note that you'll need to pay attention to the shapes when doing this. If you have a tensor `a` with shape `(64, 10)` and a tensor `b` with shape `(64,)`, doing `a/b` will give you an error because PyTorch will try to do the division across the columns (called broadcasting) but you'll get a size mismatch. The way to think about this is for each of the 64 examples, you only want to divide by one value, the sum in the denominator. So you need `b` to have a shape of `(64, 1)`. This way PyTorch will divide the 10 values in each row of `a` by the one value in each row of `b`. Pay attention to how you take the sum as well. You'll need to define the `dim` keyword in `torch.sum`. Setting `dim=0` takes the sum across the rows while `dim=1` takes the sum across the columns."
   ]
  },
  {
   "cell_type": "code",
   "execution_count": 9,
   "metadata": {},
   "outputs": [
    {
     "name": "stdout",
     "output_type": "stream",
     "text": [
      "torch.Size([64, 10])\n",
      "tensor([1.0000, 1.0000, 1.0000, 1.0000, 1.0000, 1.0000, 1.0000, 1.0000, 1.0000,\n",
      "        1.0000, 1.0000, 1.0000, 1.0000, 1.0000, 1.0000, 1.0000, 1.0000, 1.0000,\n",
      "        1.0000, 1.0000, 1.0000, 1.0000, 1.0000, 1.0000, 1.0000, 1.0000, 1.0000,\n",
      "        1.0000, 1.0000, 1.0000, 1.0000, 1.0000, 1.0000, 1.0000, 1.0000, 1.0000,\n",
      "        1.0000, 1.0000, 1.0000, 1.0000, 1.0000, 1.0000, 1.0000, 1.0000, 1.0000,\n",
      "        1.0000, 1.0000, 1.0000, 1.0000, 1.0000, 1.0000, 1.0000, 1.0000, 1.0000,\n",
      "        1.0000, 1.0000, 1.0000, 1.0000, 1.0000, 1.0000, 1.0000, 1.0000, 1.0000,\n",
      "        1.0000])\n"
     ]
    }
   ],
   "source": [
    "def softmax(x):\n",
    "    ## TODO: Implement the softmax function here\n",
    "    return torch.exp(x)/torch.sum(torch.exp(x), dim=1).view(-1,1)\n",
    "# Here, out should be the output of the network in the previous excercise with shape (64,10)\n",
    "probabilities = softmax(out)\n",
    "\n",
    "# Does it have the right shape? Should be (64, 10)\n",
    "print(probabilities.shape)\n",
    "# Does it sum to 1?\n",
    "print(probabilities.sum(dim=1))"
   ]
  },
  {
   "cell_type": "markdown",
   "metadata": {},
   "source": [
    "## Building networks with PyTorch\n",
    "\n",
    "PyTorch provides a module `nn` that makes building networks much simpler. Here I'll show you how to build the same one as above with 784 inputs, 256 hidden units, 10 output units and a softmax output."
   ]
  },
  {
   "cell_type": "code",
   "execution_count": 10,
   "metadata": {},
   "outputs": [],
   "source": [
    "from torch import nn"
   ]
  },
  {
   "cell_type": "code",
   "execution_count": 11,
   "metadata": {},
   "outputs": [],
   "source": [
    "class Network(nn.Module):\n",
    "    def __init__(self):\n",
    "        super().__init__()\n",
    "        \n",
    "        # Inputs to hidden layer linear transformation\n",
    "        self.hidden = nn.Linear(784, 256)\n",
    "        # Output layer, 10 units - one for each digit\n",
    "        self.output = nn.Linear(256, 10)\n",
    "        \n",
    "        # Define sigmoid activation and softmax output \n",
    "        self.sigmoid = nn.Sigmoid()\n",
    "        self.softmax = nn.Softmax(dim=1)\n",
    "        \n",
    "    def forward(self, x):\n",
    "        # Pass the input tensor through each of our operations\n",
    "        x = self.hidden(x)\n",
    "        x = self.sigmoid(x)\n",
    "        x = self.output(x)\n",
    "        x = self.softmax(x)\n",
    "        \n",
    "        return x"
   ]
  },
  {
   "cell_type": "markdown",
   "metadata": {},
   "source": [
    "Let's go through this bit by bit.\n",
    "\n",
    "```python\n",
    "class Network(nn.Module):\n",
    "```\n",
    "\n",
    "Here we're inheriting from `nn.Module`. Combined with `super().__init__()` this creates a class that tracks the architecture and provides a lot of useful methods and attributes. It is mandatory to inherit from `nn.Module` when you're creating a class for your network. The name of the class itself can be anything.\n",
    "\n",
    "```python\n",
    "self.hidden = nn.Linear(784, 256)\n",
    "```\n",
    "\n",
    "This line creates a module for a linear transformation, $x\\mathbf{W} + b$, with 784 inputs and 256 outputs and assigns it to `self.hidden`. The module automatically creates the weight and bias tensors which we'll use in the `forward` method. You can access the weight and bias tensors once the network (`net`) is created with `net.hidden.weight` and `net.hidden.bias`.\n",
    "\n",
    "```python\n",
    "self.output = nn.Linear(256, 10)\n",
    "```\n",
    "\n",
    "Similarly, this creates another linear transformation with 256 inputs and 10 outputs.\n",
    "\n",
    "```python\n",
    "self.sigmoid = nn.Sigmoid()\n",
    "self.softmax = nn.Softmax(dim=1)\n",
    "```\n",
    "\n",
    "Here I defined operations for the sigmoid activation and softmax output. Setting `dim=1` in `nn.Softmax(dim=1)` calculates softmax across the columns.\n",
    "\n",
    "```python\n",
    "def forward(self, x):\n",
    "```\n",
    "\n",
    "PyTorch networks created with `nn.Module` must have a `forward` method defined. It takes in a tensor `x` and passes it through the operations you defined in the `__init__` method.\n",
    "\n",
    "```python\n",
    "x = self.hidden(x)\n",
    "x = self.sigmoid(x)\n",
    "x = self.output(x)\n",
    "x = self.softmax(x)\n",
    "```\n",
    "\n",
    "Here the input tensor `x` is passed through each operation and reassigned to `x`. We can see that the input tensor goes through the hidden layer, then a sigmoid function, then the output layer, and finally the softmax function. It doesn't matter what you name the variables here, as long as the inputs and outputs of the operations match the network architecture you want to build. The order in which you define things in the `__init__` method doesn't matter, but you'll need to sequence the operations correctly in the `forward` method.\n",
    "\n",
    "Now we can create a `Network` object."
   ]
  },
  {
   "cell_type": "code",
   "execution_count": 12,
   "metadata": {},
   "outputs": [
    {
     "data": {
      "text/plain": [
       "Network(\n",
       "  (hidden): Linear(in_features=784, out_features=256, bias=True)\n",
       "  (output): Linear(in_features=256, out_features=10, bias=True)\n",
       "  (sigmoid): Sigmoid()\n",
       "  (softmax): Softmax()\n",
       ")"
      ]
     },
     "execution_count": 12,
     "metadata": {},
     "output_type": "execute_result"
    }
   ],
   "source": [
    "# Create the network and look at it's text representation\n",
    "model = Network()\n",
    "model"
   ]
  },
  {
   "cell_type": "markdown",
   "metadata": {},
   "source": [
    "You can define the network somewhat more concisely and clearly using the `torch.nn.functional` module. This is the most common way you'll see networks defined as many operations are simple element-wise functions. We normally import this module as `F`, `import torch.nn.functional as F`."
   ]
  },
  {
   "cell_type": "code",
   "execution_count": 13,
   "metadata": {},
   "outputs": [],
   "source": [
    "import torch.nn.functional as F\n",
    "\n",
    "class Network(nn.Module):\n",
    "    def __init__(self):\n",
    "        super().__init__()\n",
    "        # Inputs to hidden layer linear transformation\n",
    "        self.hidden = nn.Linear(784, 256)\n",
    "        # Output layer, 10 units - one for each digit\n",
    "        self.output = nn.Linear(256, 10)\n",
    "        \n",
    "    def forward(self, x):\n",
    "        # Hidden layer with sigmoid activation\n",
    "        x = F.sigmoid(self.hidden(x))\n",
    "        # Output layer with softmax activation\n",
    "        x = F.softmax(self.output(x), dim=1)\n",
    "        \n",
    "        return x"
   ]
  },
  {
   "cell_type": "markdown",
   "metadata": {},
   "source": [
    "### Activation functions\n",
    "\n",
    "So far we've only been looking at the sigmoid activation function, but in general any function can be used as an activation function. The only requirement is that for a network to approximate a non-linear function, the activation functions must be non-linear. Here are a few more examples of common activation functions: Tanh (hyperbolic tangent), and ReLU (rectified linear unit).\n",
    "\n",
    "<img src=\"assets/activation.png\" width=700px>\n",
    "\n",
    "In practice, the ReLU function is used almost exclusively as the activation function for hidden layers."
   ]
  },
  {
   "cell_type": "markdown",
   "metadata": {},
   "source": [
    "### Your Turn to Build a Network\n",
    "\n",
    "<img src=\"assets/mlp_mnist.png\" width=600px>\n",
    "\n",
    "> **Exercise:** Create a network with 784 input units, a hidden layer with 128 units and a ReLU activation, then a hidden layer with 64 units and a ReLU activation, and finally an output layer with a softmax activation as shown above. You can use a ReLU activation with the `nn.ReLU` module or `F.relu` function.\n",
    "\n",
    "It's good practice to name your layers by their type of network, for instance 'fc' to represent a fully-connected layer. As you code your solution, use `fc1`, `fc2`, and `fc3` as your layer names."
   ]
  },
  {
   "cell_type": "code",
   "execution_count": 14,
   "metadata": {
    "scrolled": true
   },
   "outputs": [
    {
     "data": {
      "text/plain": [
       "Network(\n",
       "  (fc1): Linear(in_features=784, out_features=128, bias=True)\n",
       "  (fc2): Linear(in_features=128, out_features=64, bias=True)\n",
       "  (fc3): Linear(in_features=64, out_features=10, bias=True)\n",
       ")"
      ]
     },
     "execution_count": 14,
     "metadata": {},
     "output_type": "execute_result"
    }
   ],
   "source": [
    "\n",
    "## Your solution here\n",
    "from torch import nn\n",
    "import torch.nn.functional as F\n",
    "\n",
    "class Network(nn.Module):\n",
    "    def __init__(self):\n",
    "        super().__init__()\n",
    "        # Inputs to hidden layer linear transformation\n",
    "        self.fc1 = nn.Linear(784,128)\n",
    "        # Inputs to second hidden layer linear transformation\n",
    "        self.fc2 = nn.Linear(128,64)\n",
    "        # Output layer, 10 units - one for each digit\n",
    "        self.fc3 = nn.Linear(64,10)\n",
    "        \n",
    "    def forward(self, x):\n",
    "        # Hidden layer with sigmoid activation\n",
    "        x = self.fc1(x)\n",
    "        x = F.relu(x)\n",
    "        x = self.fc2(x)\n",
    "        x = F.relu(x)\n",
    "        x = self.fc3(x)\n",
    "        x = F.softmax(x, dim=1)\n",
    "        return x\n",
    "model = Network()\n",
    "model"
   ]
  },
  {
   "cell_type": "markdown",
   "metadata": {},
   "source": [
    "### Initializing weights and biases\n",
    "\n",
    "The weights and such are automatically initialized for you, but it's possible to customize how they are initialized. The weights and biases are tensors attached to the layer you defined, you can get them with `model.fc1.weight` for instance."
   ]
  },
  {
   "cell_type": "code",
   "execution_count": 15,
   "metadata": {},
   "outputs": [
    {
     "name": "stdout",
     "output_type": "stream",
     "text": [
      "Parameter containing:\n",
      "tensor([[ 1.3615e-02,  6.6186e-03,  3.5302e-02,  ...,  2.5842e-02,\n",
      "         -2.5534e-02,  2.0276e-02],\n",
      "        [ 1.8506e-02, -1.4689e-02, -1.3737e-02,  ...,  5.5114e-03,\n",
      "         -1.6331e-02, -3.4693e-02],\n",
      "        [-3.3325e-02,  1.8756e-04,  2.4852e-02,  ..., -2.7547e-02,\n",
      "          1.4960e-02, -1.0844e-02],\n",
      "        ...,\n",
      "        [-2.2510e-02,  7.0702e-05,  1.0619e-02,  ...,  1.7981e-02,\n",
      "          2.6184e-02, -1.4489e-02],\n",
      "        [-2.5544e-02,  9.2040e-03,  6.1801e-03,  ..., -1.8421e-03,\n",
      "          2.6815e-02,  1.2245e-02],\n",
      "        [-3.2308e-02,  1.4666e-02,  3.4131e-02,  ...,  5.0495e-03,\n",
      "          1.8257e-02, -1.9165e-02]], requires_grad=True)\n",
      "Parameter containing:\n",
      "tensor([ 1.8940e-02, -8.8440e-03,  3.2512e-02,  1.5909e-02, -2.5213e-02,\n",
      "         3.2856e-02, -1.4953e-02, -1.9702e-02,  9.6919e-03,  8.9905e-03,\n",
      "        -1.4922e-02,  1.2051e-02,  1.8178e-03,  1.7678e-02, -1.9277e-02,\n",
      "         3.0050e-02, -1.2745e-02,  3.7459e-03, -2.1404e-02,  2.0857e-02,\n",
      "        -1.9655e-02,  3.1888e-02, -2.1094e-02,  1.2630e-02,  2.7178e-02,\n",
      "         1.5409e-03,  2.0626e-02,  3.5538e-02,  2.9552e-02,  2.8492e-02,\n",
      "         1.4699e-02,  2.2354e-02, -1.5031e-03, -1.3573e-02,  3.0831e-02,\n",
      "        -1.9288e-02, -1.8553e-02,  2.3733e-02, -2.6404e-02, -3.2575e-02,\n",
      "        -9.1630e-04, -1.4284e-02,  1.9798e-02,  1.6093e-02,  3.2051e-02,\n",
      "         1.0145e-02, -5.8117e-03, -1.1461e-02,  3.5077e-02,  2.1019e-02,\n",
      "         2.7965e-02, -3.5057e-02, -3.7610e-03, -1.8822e-02,  3.3060e-02,\n",
      "        -1.4475e-02, -7.4291e-03,  2.8027e-02, -2.3291e-02,  1.3477e-02,\n",
      "         1.2836e-02, -3.5627e-02, -5.2374e-03, -1.8446e-02,  1.6781e-02,\n",
      "         2.9126e-02, -8.7011e-03, -2.1070e-02,  1.6765e-02, -3.6799e-03,\n",
      "         2.3498e-02,  1.6844e-03,  3.3983e-02, -1.1864e-02,  1.1815e-02,\n",
      "         3.0469e-02,  3.1312e-02,  1.9061e-02, -3.1506e-02,  3.3510e-02,\n",
      "        -1.2222e-02,  2.4048e-03, -2.9538e-02,  2.6729e-02, -1.8434e-02,\n",
      "        -2.5018e-02, -2.5929e-02, -4.4110e-03, -7.7102e-03, -4.3462e-03,\n",
      "        -9.9931e-03,  4.0904e-03,  2.1319e-02, -3.1945e-02, -3.3249e-02,\n",
      "        -1.3257e-02,  5.6487e-03,  2.3471e-02, -8.9880e-03,  1.5447e-02,\n",
      "         1.5963e-05,  2.0586e-03, -2.9394e-02,  3.3483e-02,  3.2908e-03,\n",
      "        -2.7013e-02, -3.3418e-02, -2.7906e-02, -2.1770e-02, -2.9541e-02,\n",
      "         3.5683e-02,  1.0567e-02,  1.4093e-03, -2.7572e-02, -2.4228e-02,\n",
      "        -3.0909e-02, -2.1544e-02, -2.7819e-02, -1.4700e-02, -2.1698e-03,\n",
      "        -1.4507e-02,  3.0637e-02, -3.1641e-02,  2.9667e-02, -4.7689e-03,\n",
      "        -6.7955e-03, -7.5711e-03, -3.3560e-02], requires_grad=True)\n"
     ]
    }
   ],
   "source": [
    "print(model.fc1.weight)\n",
    "print(model.fc1.bias)"
   ]
  },
  {
   "cell_type": "markdown",
   "metadata": {},
   "source": [
    "For custom initialization, we want to modify these tensors in place. These are actually autograd *Variables*, so we need to get back the actual tensors with `model.fc1.weight.data`. Once we have the tensors, we can fill them with zeros (for biases) or random normal values."
   ]
  },
  {
   "cell_type": "code",
   "execution_count": 16,
   "metadata": {},
   "outputs": [
    {
     "data": {
      "text/plain": [
       "tensor([0., 0., 0., 0., 0., 0., 0., 0., 0., 0., 0., 0., 0., 0., 0., 0., 0., 0., 0., 0., 0., 0., 0., 0.,\n",
       "        0., 0., 0., 0., 0., 0., 0., 0., 0., 0., 0., 0., 0., 0., 0., 0., 0., 0., 0., 0., 0., 0., 0., 0.,\n",
       "        0., 0., 0., 0., 0., 0., 0., 0., 0., 0., 0., 0., 0., 0., 0., 0., 0., 0., 0., 0., 0., 0., 0., 0.,\n",
       "        0., 0., 0., 0., 0., 0., 0., 0., 0., 0., 0., 0., 0., 0., 0., 0., 0., 0., 0., 0., 0., 0., 0., 0.,\n",
       "        0., 0., 0., 0., 0., 0., 0., 0., 0., 0., 0., 0., 0., 0., 0., 0., 0., 0., 0., 0., 0., 0., 0., 0.,\n",
       "        0., 0., 0., 0., 0., 0., 0., 0.])"
      ]
     },
     "execution_count": 16,
     "metadata": {},
     "output_type": "execute_result"
    }
   ],
   "source": [
    "# Set biases to all zeros\n",
    "model.fc1.bias.data.fill_(0)"
   ]
  },
  {
   "cell_type": "code",
   "execution_count": 17,
   "metadata": {},
   "outputs": [
    {
     "data": {
      "text/plain": [
       "tensor([[ 7.0944e-03, -4.8671e-04, -7.2917e-03,  ..., -1.1525e-02,\n",
       "         -7.1003e-03, -5.9659e-04],\n",
       "        [-2.3383e-03, -4.8173e-03,  6.4297e-03,  ...,  9.7733e-03,\n",
       "         -8.0252e-03, -4.0182e-03],\n",
       "        [ 6.5360e-03,  9.2782e-03,  2.2583e-03,  ...,  5.9827e-03,\n",
       "         -7.7489e-04, -1.2691e-02],\n",
       "        ...,\n",
       "        [-1.0309e-02, -2.5437e-03, -9.8479e-06,  ..., -1.2551e-02,\n",
       "          1.0800e-02,  6.8249e-03],\n",
       "        [ 1.3629e-02,  6.5733e-03, -4.2194e-03,  ...,  8.1558e-03,\n",
       "         -6.4966e-03,  1.1371e-03],\n",
       "        [ 6.8067e-03, -4.4314e-03, -9.6323e-03,  ...,  1.0432e-02,\n",
       "         -1.0736e-02,  6.6416e-03]])"
      ]
     },
     "execution_count": 17,
     "metadata": {},
     "output_type": "execute_result"
    }
   ],
   "source": [
    "# sample from random normal with standard dev = 0.01\n",
    "model.fc1.weight.data.normal_(std=0.01)"
   ]
  },
  {
   "cell_type": "markdown",
   "metadata": {},
   "source": [
    "### Forward pass\n",
    "\n",
    "Now that we have a network, let's see what happens when we pass in an image."
   ]
  },
  {
   "cell_type": "code",
   "execution_count": 18,
   "metadata": {},
   "outputs": [
    {
     "data": {
      "image/png": "[encoded data removed]",
      "text/plain": [
       "<Figure size 432x648 with 2 Axes>"
      ]
     },
     "metadata": {
      "image/png": {
       "height": 226,
       "width": 423
      },
      "needs_background": "light"
     },
     "output_type": "display_data"
    }
   ],
   "source": [
    "# Grab some data \n",
    "dataiter = iter(trainloader)\n",
    "images, labels = dataiter.next()\n",
    "\n",
    "# Resize images into a 1D vector, new shape is (batch size, color channels, image pixels) \n",
    "images.resize_(64, 1, 784)\n",
    "# or images.resize_(images.shape[0], 1, 784) to automatically get batch size\n",
    "\n",
    "# Forward pass through the network\n",
    "img_idx = 0\n",
    "ps = model.forward(images[img_idx,:])\n",
    "\n",
    "img = images[img_idx]\n",
    "helper.view_classify(img.view(1, 28, 28), ps)"
   ]
  },
  {
   "cell_type": "markdown",
   "metadata": {},
   "source": [
    "As you can see above, our network has basically no idea what this digit is. It's because we haven't trained it yet, all the weights are random!\n",
    "\n",
    "### Using `nn.Sequential`\n",
    "\n",
    "PyTorch provides a convenient way to build networks like this where a tensor is passed sequentially through operations, `nn.Sequential` ([documentation](https://pytorch.org/docs/master/nn.html#torch.nn.Sequential)). Using this to build the equivalent network:"
   ]
  },
  {
   "cell_type": "code",
   "execution_count": 19,
   "metadata": {},
   "outputs": [
    {
     "name": "stdout",
     "output_type": "stream",
     "text": [
      "Sequential(\n",
      "  (0): Linear(in_features=784, out_features=128, bias=True)\n",
      "  (1): ReLU()\n",
      "  (2): Linear(in_features=128, out_features=64, bias=True)\n",
      "  (3): ReLU()\n",
      "  (4): Linear(in_features=64, out_features=10, bias=True)\n",
      "  (5): Softmax()\n",
      ")\n"
     ]
    },
    {
     "data": {
      "image/png": "[encoded data removed]",
      "text/plain": [
       "<Figure size 432x648 with 2 Axes>"
      ]
     },
     "metadata": {
      "image/png": {
       "height": 226,
       "width": 423
      },
      "needs_background": "light"
     },
     "output_type": "display_data"
    }
   ],
   "source": [
    "# Hyperparameters for our network\n",
    "input_size = 784\n",
    "hidden_sizes = [128, 64]\n",
    "output_size = 10\n",
    "\n",
    "# Build a feed-forward network\n",
    "model = nn.Sequential(nn.Linear(input_size, hidden_sizes[0]),\n",
    "                      nn.ReLU(),\n",
    "                      nn.Linear(hidden_sizes[0], hidden_sizes[1]),\n",
    "                      nn.ReLU(),\n",
    "                      nn.Linear(hidden_sizes[1], output_size),\n",
    "                      nn.Softmax(dim=1))\n",
    "print(model)\n",
    "\n",
    "# Forward pass through the network and display output\n",
    "images, labels = next(iter(trainloader))\n",
    "images.resize_(images.shape[0], 1, 784)\n",
    "ps = model.forward(images[0,:])\n",
    "helper.view_classify(images[0].view(1, 28, 28), ps)"
   ]
  },
  {
   "cell_type": "markdown",
   "metadata": {},
   "source": [
    "Here our model is the same as before: 784 input units, a hidden layer with 128 units, ReLU activation, 64 unit hidden layer, another ReLU, then the output layer with 10 units, and the softmax output.\n",
    "\n",
    "The operations are available by passing in the appropriate index. For example, if you want to get first Linear operation and look at the weights, you'd use `model[0]`."
   ]
  },
  {
   "cell_type": "code",
   "execution_count": 20,
   "metadata": {},
   "outputs": [
    {
     "name": "stdout",
     "output_type": "stream",
     "text": [
      "Linear(in_features=784, out_features=128, bias=True)\n"
     ]
    },
    {
     "data": {
      "text/plain": [
       "Parameter containing:\n",
       "tensor([[ 0.0096,  0.0003,  0.0195,  ..., -0.0140,  0.0204,  0.0065],\n",
       "        [ 0.0196,  0.0114,  0.0033,  ...,  0.0093,  0.0070, -0.0043],\n",
       "        [-0.0346, -0.0015, -0.0267,  ..., -0.0240, -0.0330,  0.0274],\n",
       "        ...,\n",
       "        [ 0.0203, -0.0074,  0.0175,  ..., -0.0305,  0.0051,  0.0171],\n",
       "        [-0.0140,  0.0114,  0.0289,  ...,  0.0223, -0.0051, -0.0113],\n",
       "        [ 0.0293,  0.0264,  0.0326,  ...,  0.0295,  0.0053,  0.0053]],\n",
       "       requires_grad=True)"
      ]
     },
     "execution_count": 20,
     "metadata": {},
     "output_type": "execute_result"
    }
   ],
   "source": [
    "print(model[0])\n",
    "model[0].weight"
   ]
  },
  {
   "cell_type": "markdown",
   "metadata": {},
   "source": [
    "You can also pass in an `OrderedDict` to name the individual layers and operations, instead of using incremental integers. Note that dictionary keys must be unique, so _each operation must have a different name_."
   ]
  },
  {
   "cell_type": "code",
   "execution_count": 21,
   "metadata": {},
   "outputs": [
    {
     "data": {
      "text/plain": [
       "Sequential(\n",
       "  (fc1): Linear(in_features=784, out_features=128, bias=True)\n",
       "  (relu1): ReLU()\n",
       "  (fc2): Linear(in_features=128, out_features=64, bias=True)\n",
       "  (relu2): ReLU()\n",
       "  (output): Linear(in_features=64, out_features=10, bias=True)\n",
       "  (softmax): Softmax()\n",
       ")"
      ]
     },
     "execution_count": 21,
     "metadata": {},
     "output_type": "execute_result"
    }
   ],
   "source": [
    "from collections import OrderedDict\n",
    "model = nn.Sequential(OrderedDict([\n",
    "                      ('fc1', nn.Linear(input_size, hidden_sizes[0])),\n",
    "                      ('relu1', nn.ReLU()),\n",
    "                      ('fc2', nn.Linear(hidden_sizes[0], hidden_sizes[1])),\n",
    "                      ('relu2', nn.ReLU()),\n",
    "                      ('output', nn.Linear(hidden_sizes[1], output_size)),\n",
    "                      ('softmax', nn.Softmax(dim=1))]))\n",
    "model"
   ]
  },
  {
   "cell_type": "markdown",
   "metadata": {},
   "source": [
    "Now you can access layers either by integer or the name"
   ]
  },
  {
   "cell_type": "code",
   "execution_count": 22,
   "metadata": {},
   "outputs": [
    {
     "name": "stdout",
     "output_type": "stream",
     "text": [
      "Linear(in_features=784, out_features=128, bias=True)\n",
      "Linear(in_features=784, out_features=128, bias=True)\n"
     ]
    }
   ],
   "source": [
    "print(model[0])\n",
    "print(model.fc1)"
   ]
  },
  {
   "cell_type": "markdown",
   "metadata": {},
   "source": [
    "In the next notebook, we'll see how we can train a neural network to accuractly predict the numbers appearing in the MNIST images."
   ]
  }
 ],
 "metadata": {
  "kernelspec": {
   "display_name": "Python 3",
   "language": "python",
   "name": "python3"
  },
  "language_info": {
   "codemirror_mode": {
    "name": "ipython",
    "version": 3
   },
   "file_extension": ".py",
   "mimetype": "text/x-python",
   "name": "python",
   "nbconvert_exporter": "python",
   "pygments_lexer": "ipython3",
   "version": "3.7.3"
  }
 },
 "nbformat": 4,
 "nbformat_minor": 2
}
